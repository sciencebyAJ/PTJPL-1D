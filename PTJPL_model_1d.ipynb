{
 "cells": [
  {
   "cell_type": "markdown",
   "metadata": {
    "collapsed": false
   },
   "source": [
    "# PTJPL for point forcing datasets\n",
    "***************************************************************\n",
    "<left> The below code is from [Fisher et al., 2008](http://josh.yosh.org/publications/Fisher%20et%20al%202008%20-%20Global%20estimates%20of%20the%20land-atmosphere%20water%20flux.pdf)\n",
    "<left> Adjustments are made for application at daily timesteps\n",
    "<left> This version of code was authored by: AJ Purdy\n",
    "<left> Major Contributions for this code are from Gregory Halverson & Grayson Badgley\n",
    "<left> Contact:  ajpurdy@uci.edu     \n",
    "***************************************************************\n",
    "\n",
    "    Input variables within DATAFRAME:     \n",
    "        air_temperature: air temperature near the surface (C)\n",
    "        air_temperature_mean: daily average air temperature near the surface (K)        \n",
    "        RH_day_min: minimum daily relative humidity(%) \n",
    "           replacement if not avail --> daily minimum vapor pressure (Pa)\n",
    "        ndvi_mean: average Normalized Difference Vegetation Index for day        \n",
    "        optimum_temperature: phenologically optimum temperature (K)\n",
    "        fAPARmax: maximum fraction of photosynthetically active radiation (unitless)   \n",
    "        net_radiation: instantaneous net radiation in (W/m2) \n",
    "        daily_radiation: daily net radiation in (W/m2)\n",
    "        \n",
    "    Returned:\n",
    "        A dataset is returned from this script containing the following variables:\n",
    "        evapotranspiration: total evapotranspiration (W/m2)\n",
    "        interception_evaporation: intercepted evaporation (W/m2) \n",
    "        soil_evaporation: evaporation from soil (W/m2)\n",
    "        canopy_transpiration: transpiration from canopy (W/m2)                       \n",
    "        potential_evapotranspiration: potential evapotranspiration (W/m2)\n",
    "        \n",
    "***************************************************************\n"
   ]
  },
  {
   "cell_type": "code",
   "execution_count": 2,
   "metadata": {
    "collapsed": false
   },
   "outputs": [],
   "source": [
    "import datetime\n",
    "import glob\n",
    "import matplotlib.dates as dates\n",
    "import matplotlib.pyplot as plt\n",
    "import numpy as np\n",
    "from numpy.ma import exp, log\n",
    "import os\n",
    "import pandas as pd\n",
    "pd.options.mode.chained_assignment = None\n",
    "\n",
    "# FILE PATHWAYS\n",
    "data_path = 'data/'\n",
    "figs_path = 'figs/'\n",
    "# ----------------------- MODEL IS IN THE LIBRARY REFERENCED HERE ---------------------- \n",
    "from ptjpl_lib import *\n",
    "# ----------------------------- NOTEBOOK SPECIFIC COMMANDS ----------------------------- \n",
    "# % matplotlib inline\n",
    "# from IPython.core.display import display, HTML\n",
    "# display(HTML(\"<style>.container { width:90% !important; }</style>\"))\n",
    "\n",
    "os.chdir(data_path);\n",
    "fList = glob.glob('*.csv');\n",
    "fNameMMS = fList[0]; \n",
    "datMMS = pd.read_csv(fNameMMS); \n",
    "df_MMS = datMMS.set_index('Time'); \n",
    "df_model_MMS = ptjpl(df_MMS)\n",
    "os.chdir('../')\n",
    "\n",
    "plt.figure();\n",
    "df_model_MMS.evapotranspiration.rolling(4,2).mean().plot(label='PTJPL')\n",
    "df_model_MMS.LE_FC.rolling(4,2).mean().plot(label='LE$_{observation}$')\n",
    "plt.legend(ncol=2, loc = 3, fontsize = 7)\n",
    "plt.title('Morgan Monroe State Forest')\n",
    "plt.ylabel('$Wm^{-2}$', fontsize=14)\n",
    "plt.savefig(figs_path+'US-MMS_total_ET.png')\n",
    "\n",
    "plt.figure()\n",
    "df_model_MMS.canopy_transpiration.plot()\n",
    "df_model_MMS.interception_evaporation.plot()\n",
    "df_model_MMS.soil_evaporation.plot()\n",
    "plt.legend(ncol=3, fontsize=7)\n",
    "plt.ylabel('$Wm^{-2}$', fontsize=14)\n",
    "plt.title('Morgan Monroe State Forest')\n",
    "plt.savefig(figs_path+'US-MMS_ET_components.png')\n",
    "\n",
    "\n"
   ]
  },
  {
   "cell_type": "code",
   "execution_count": null,
   "metadata": {
    "collapsed": true
   },
   "outputs": [],
   "source": []
  }
 ],
 "metadata": {
  "anaconda-cloud": {},
  "kernelspec": {
   "display_name": "Python 2",
   "language": "python",
   "name": "python2"
  },
  "language_info": {
   "codemirror_mode": {
    "name": "ipython",
    "version": 2
   },
   "file_extension": ".py",
   "mimetype": "text/x-python",
   "name": "python",
   "nbconvert_exporter": "python",
   "pygments_lexer": "ipython2",
   "version": "2.7.13"
  }
 },
 "nbformat": 4,
 "nbformat_minor": 0
}
